{
 "cells": [
  {
   "cell_type": "code",
   "execution_count": 2,
   "metadata": {},
   "outputs": [],
   "source": [
    "import pandas as pd\n",
    "import re\n",
    "import emoji"
   ]
  },
  {
   "cell_type": "code",
   "execution_count": 3,
   "metadata": {},
   "outputs": [],
   "source": [
    "# import os\n",
    "# os.getcwd()"
   ]
  },
  {
   "cell_type": "code",
   "execution_count": 4,
   "metadata": {},
   "outputs": [],
   "source": [
    "df_twitter = pd.read_csv(\"Data/Final_Dataset_twitter.csv\")\n",
    "df_twitter.drop(df_twitter.columns[1], axis=1, inplace=True)"
   ]
  },
  {
   "cell_type": "code",
   "execution_count": 5,
   "metadata": {},
   "outputs": [
    {
     "data": {
      "text/html": [
       "<div>\n",
       "<style scoped>\n",
       "    .dataframe tbody tr th:only-of-type {\n",
       "        vertical-align: middle;\n",
       "    }\n",
       "\n",
       "    .dataframe tbody tr th {\n",
       "        vertical-align: top;\n",
       "    }\n",
       "\n",
       "    .dataframe thead th {\n",
       "        text-align: right;\n",
       "    }\n",
       "</style>\n",
       "<table border=\"1\" class=\"dataframe\">\n",
       "  <thead>\n",
       "    <tr style=\"text-align: right;\">\n",
       "      <th></th>\n",
       "      <th>Comments</th>\n",
       "    </tr>\n",
       "  </thead>\n",
       "  <tbody>\n",
       "    <tr>\n",
       "      <th>0</th>\n",
       "      <td>That's how we roll😎 . . . . . . . . #cinemadd...</td>\n",
       "    </tr>\n",
       "    <tr>\n",
       "      <th>1</th>\n",
       "      <td>😂😂😂 #Sarcasm</td>\n",
       "    </tr>\n",
       "    <tr>\n",
       "      <th>2</th>\n",
       "      <td>At my bro Barbara school . I'm only one can i...</td>\n",
       "    </tr>\n",
       "    <tr>\n",
       "      <th>3</th>\n",
       "      <td>And I don’t know why people get hurt 😄 #sarca...</td>\n",
       "    </tr>\n",
       "    <tr>\n",
       "      <th>4</th>\n",
       "      <td>Yay. I see a #cold in my near #future 😂 #joke...</td>\n",
       "    </tr>\n",
       "  </tbody>\n",
       "</table>\n",
       "</div>"
      ],
      "text/plain": [
       "                                            Comments\n",
       "0   That's how we roll😎 . . . . . . . . #cinemadd...\n",
       "1                                       😂😂😂 #Sarcasm\n",
       "2   At my bro Barbara school . I'm only one can i...\n",
       "3   And I don’t know why people get hurt 😄 #sarca...\n",
       "4   Yay. I see a #cold in my near #future 😂 #joke..."
      ]
     },
     "execution_count": 5,
     "metadata": {},
     "output_type": "execute_result"
    }
   ],
   "source": [
    "df_twitter.head()"
   ]
  },
  {
   "cell_type": "code",
   "execution_count": 6,
   "metadata": {},
   "outputs": [],
   "source": [
    "# Function to extract emojis from a sentence\n",
    "def extract_emojis(text):\n",
    "    emojis = [d['emoji'] for d in emoji.emoji_list(text)]\n",
    "    return ' '.join(emojis)\n",
    "\n",
    "# Apply the function to create a new column for emojis\n",
    "df_twitter['Emojis'] = df_twitter['Comments'].apply(extract_emojis)\n",
    "\n",
    "# Remove emojis from sentences\n",
    "df_twitter['Text'] = df_twitter['Comments'].apply(lambda x: emoji.replace_emoji(x, replace=''))"
   ]
  },
  {
   "cell_type": "code",
   "execution_count": 7,
   "metadata": {},
   "outputs": [
    {
     "data": {
      "text/html": [
       "<div>\n",
       "<style scoped>\n",
       "    .dataframe tbody tr th:only-of-type {\n",
       "        vertical-align: middle;\n",
       "    }\n",
       "\n",
       "    .dataframe tbody tr th {\n",
       "        vertical-align: top;\n",
       "    }\n",
       "\n",
       "    .dataframe thead th {\n",
       "        text-align: right;\n",
       "    }\n",
       "</style>\n",
       "<table border=\"1\" class=\"dataframe\">\n",
       "  <thead>\n",
       "    <tr style=\"text-align: right;\">\n",
       "      <th></th>\n",
       "      <th>Comments</th>\n",
       "      <th>Emojis</th>\n",
       "      <th>Text</th>\n",
       "    </tr>\n",
       "  </thead>\n",
       "  <tbody>\n",
       "    <tr>\n",
       "      <th>count</th>\n",
       "      <td>16859</td>\n",
       "      <td>16859</td>\n",
       "      <td>16859</td>\n",
       "    </tr>\n",
       "    <tr>\n",
       "      <th>unique</th>\n",
       "      <td>16859</td>\n",
       "      <td>2789</td>\n",
       "      <td>16643</td>\n",
       "    </tr>\n",
       "    <tr>\n",
       "      <th>top</th>\n",
       "      <td>i wish i can go to wief 😕</td>\n",
       "      <td>😂</td>\n",
       "      <td>#Funny #memes #Jokes #puns #Sarcasm #lol  https</td>\n",
       "    </tr>\n",
       "    <tr>\n",
       "      <th>freq</th>\n",
       "      <td>1</td>\n",
       "      <td>3112</td>\n",
       "      <td>48</td>\n",
       "    </tr>\n",
       "  </tbody>\n",
       "</table>\n",
       "</div>"
      ],
      "text/plain": [
       "                         Comments Emojis  \\\n",
       "count                       16859  16859   \n",
       "unique                      16859   2789   \n",
       "top     i wish i can go to wief 😕      😂   \n",
       "freq                            1   3112   \n",
       "\n",
       "                                                     Text  \n",
       "count                                               16859  \n",
       "unique                                              16643  \n",
       "top       #Funny #memes #Jokes #puns #Sarcasm #lol  https  \n",
       "freq                                                   48  "
      ]
     },
     "execution_count": 7,
     "metadata": {},
     "output_type": "execute_result"
    }
   ],
   "source": [
    "df_twitter.describe()"
   ]
  },
  {
   "cell_type": "code",
   "execution_count": 8,
   "metadata": {},
   "outputs": [],
   "source": [
    "df_facebook = pd.read_csv(\"Data/Final_Dataset_Facebook.csv\")\n",
    "df_facebook.drop(df_facebook.columns[1], axis=1, inplace=True)"
   ]
  },
  {
   "cell_type": "code",
   "execution_count": 9,
   "metadata": {},
   "outputs": [
    {
     "data": {
      "text/html": [
       "<div>\n",
       "<style scoped>\n",
       "    .dataframe tbody tr th:only-of-type {\n",
       "        vertical-align: middle;\n",
       "    }\n",
       "\n",
       "    .dataframe tbody tr th {\n",
       "        vertical-align: top;\n",
       "    }\n",
       "\n",
       "    .dataframe thead th {\n",
       "        text-align: right;\n",
       "    }\n",
       "</style>\n",
       "<table border=\"1\" class=\"dataframe\">\n",
       "  <thead>\n",
       "    <tr style=\"text-align: right;\">\n",
       "      <th></th>\n",
       "      <th>Comments</th>\n",
       "    </tr>\n",
       "  </thead>\n",
       "  <tbody>\n",
       "    <tr>\n",
       "      <th>0</th>\n",
       "      <td>Sorry No Comments ..I came here to read commen...</td>\n",
       "    </tr>\n",
       "    <tr>\n",
       "      <th>1</th>\n",
       "      <td>Hi guys. I'm so happy and proud of myself and ...</td>\n",
       "    </tr>\n",
       "    <tr>\n",
       "      <th>2</th>\n",
       "      <td>Hahahaha your intelligence 😜😜😜</td>\n",
       "    </tr>\n",
       "    <tr>\n",
       "      <th>3</th>\n",
       "      <td>Aqsa Naveed we were proud backbenchers 😜😜😂</td>\n",
       "    </tr>\n",
       "    <tr>\n",
       "      <th>4</th>\n",
       "      <td>Hemant extraordinary sketcher😝..right Ujjawal??</td>\n",
       "    </tr>\n",
       "  </tbody>\n",
       "</table>\n",
       "</div>"
      ],
      "text/plain": [
       "                                            Comments\n",
       "0  Sorry No Comments ..I came here to read commen...\n",
       "1  Hi guys. I'm so happy and proud of myself and ...\n",
       "2                     Hahahaha your intelligence 😜😜😜\n",
       "3         Aqsa Naveed we were proud backbenchers 😜😜😂\n",
       "4    Hemant extraordinary sketcher😝..right Ujjawal??"
      ]
     },
     "execution_count": 9,
     "metadata": {},
     "output_type": "execute_result"
    }
   ],
   "source": [
    "df_facebook.head()"
   ]
  },
  {
   "cell_type": "code",
   "execution_count": 10,
   "metadata": {},
   "outputs": [],
   "source": [
    "# Function to extract emojis from a sentence\n",
    "def extract_emojis(text):\n",
    "    emojis = [d['emoji'] for d in emoji.emoji_list(text)]\n",
    "    return ' '.join(emojis)\n",
    "\n",
    "# Apply the function to create a new column for emojis\n",
    "df_facebook['Emojis'] = df_facebook['Comments'].apply(extract_emojis)\n",
    "\n",
    "# Remove emojis from sentences\n",
    "df_facebook['Text'] = df_facebook['Comments'].apply(lambda x: emoji.replace_emoji(x, replace=''))"
   ]
  },
  {
   "cell_type": "code",
   "execution_count": 11,
   "metadata": {},
   "outputs": [
    {
     "data": {
      "text/html": [
       "<div>\n",
       "<style scoped>\n",
       "    .dataframe tbody tr th:only-of-type {\n",
       "        vertical-align: middle;\n",
       "    }\n",
       "\n",
       "    .dataframe tbody tr th {\n",
       "        vertical-align: top;\n",
       "    }\n",
       "\n",
       "    .dataframe thead th {\n",
       "        text-align: right;\n",
       "    }\n",
       "</style>\n",
       "<table border=\"1\" class=\"dataframe\">\n",
       "  <thead>\n",
       "    <tr style=\"text-align: right;\">\n",
       "      <th></th>\n",
       "      <th>Comments</th>\n",
       "      <th>Emojis</th>\n",
       "      <th>Text</th>\n",
       "    </tr>\n",
       "  </thead>\n",
       "  <tbody>\n",
       "    <tr>\n",
       "      <th>0</th>\n",
       "      <td>Sorry No Comments ..I came here to read commen...</td>\n",
       "      <td>😜</td>\n",
       "      <td>Sorry No Comments ..I came here to read commen...</td>\n",
       "    </tr>\n",
       "    <tr>\n",
       "      <th>1</th>\n",
       "      <td>Hi guys. I'm so happy and proud of myself and ...</td>\n",
       "      <td>😝 😝</td>\n",
       "      <td>Hi guys. I'm so happy and proud of myself and ...</td>\n",
       "    </tr>\n",
       "    <tr>\n",
       "      <th>2</th>\n",
       "      <td>Hahahaha your intelligence 😜😜😜</td>\n",
       "      <td>😜 😜 😜</td>\n",
       "      <td>Hahahaha your intelligence</td>\n",
       "    </tr>\n",
       "    <tr>\n",
       "      <th>3</th>\n",
       "      <td>Aqsa Naveed we were proud backbenchers 😜😜😂</td>\n",
       "      <td>😜 😜 😂</td>\n",
       "      <td>Aqsa Naveed we were proud backbenchers</td>\n",
       "    </tr>\n",
       "    <tr>\n",
       "      <th>4</th>\n",
       "      <td>Hemant extraordinary sketcher😝..right Ujjawal??</td>\n",
       "      <td>😝</td>\n",
       "      <td>Hemant extraordinary sketcher..right Ujjawal??</td>\n",
       "    </tr>\n",
       "  </tbody>\n",
       "</table>\n",
       "</div>"
      ],
      "text/plain": [
       "                                            Comments Emojis  \\\n",
       "0  Sorry No Comments ..I came here to read commen...      😜   \n",
       "1  Hi guys. I'm so happy and proud of myself and ...    😝 😝   \n",
       "2                     Hahahaha your intelligence 😜😜😜  😜 😜 😜   \n",
       "3         Aqsa Naveed we were proud backbenchers 😜😜😂  😜 😜 😂   \n",
       "4    Hemant extraordinary sketcher😝..right Ujjawal??      😝   \n",
       "\n",
       "                                                Text  \n",
       "0  Sorry No Comments ..I came here to read commen...  \n",
       "1  Hi guys. I'm so happy and proud of myself and ...  \n",
       "2                        Hahahaha your intelligence   \n",
       "3            Aqsa Naveed we were proud backbenchers   \n",
       "4     Hemant extraordinary sketcher..right Ujjawal??  "
      ]
     },
     "execution_count": 11,
     "metadata": {},
     "output_type": "execute_result"
    }
   ],
   "source": [
    "df_facebook.head()"
   ]
  },
  {
   "cell_type": "code",
   "execution_count": 12,
   "metadata": {},
   "outputs": [
    {
     "name": "stdout",
     "output_type": "stream",
     "text": [
      "Number of null values in each column:\n",
      "Comments    0\n",
      "Emojis      0\n",
      "Text        0\n",
      "dtype: int64\n"
     ]
    }
   ],
   "source": [
    "# Count the number of null values in all columns\n",
    "null_counts = df_twitter.isnull().sum()\n",
    "\n",
    "# Display the counts\n",
    "print(\"Number of null values in each column:\")\n",
    "print(null_counts)"
   ]
  },
  {
   "cell_type": "code",
   "execution_count": 13,
   "metadata": {},
   "outputs": [],
   "source": [
    "twitter_label = pd.read_csv(\"Data/Final_Dataset_Twitter_Labels.csv\")\n",
    "df_twitter['Sarcasm'] = twitter_label['Comments']\n",
    "\n",
    "facebook_label = pd.read_csv(\"Data/Final_Dataset_Facebook_Labels.csv\")\n",
    "df_facebook['Sarcasm'] = facebook_label['Comments']"
   ]
  },
  {
   "cell_type": "code",
   "execution_count": 14,
   "metadata": {},
   "outputs": [
    {
     "data": {
      "text/html": [
       "<div>\n",
       "<style scoped>\n",
       "    .dataframe tbody tr th:only-of-type {\n",
       "        vertical-align: middle;\n",
       "    }\n",
       "\n",
       "    .dataframe tbody tr th {\n",
       "        vertical-align: top;\n",
       "    }\n",
       "\n",
       "    .dataframe thead th {\n",
       "        text-align: right;\n",
       "    }\n",
       "</style>\n",
       "<table border=\"1\" class=\"dataframe\">\n",
       "  <thead>\n",
       "    <tr style=\"text-align: right;\">\n",
       "      <th></th>\n",
       "      <th>Comments</th>\n",
       "      <th>Emojis</th>\n",
       "      <th>Text</th>\n",
       "      <th>Sarcasm</th>\n",
       "    </tr>\n",
       "  </thead>\n",
       "  <tbody>\n",
       "    <tr>\n",
       "      <th>0</th>\n",
       "      <td>That's how we roll😎 . . . . . . . . #cinemadd...</td>\n",
       "      <td>😎</td>\n",
       "      <td>That's how we roll . . . . . . . . #cinemaddi...</td>\n",
       "      <td>1</td>\n",
       "    </tr>\n",
       "    <tr>\n",
       "      <th>1</th>\n",
       "      <td>😂😂😂 #Sarcasm</td>\n",
       "      <td>😂 😂 😂</td>\n",
       "      <td>#Sarcasm</td>\n",
       "      <td>1</td>\n",
       "    </tr>\n",
       "    <tr>\n",
       "      <th>2</th>\n",
       "      <td>At my bro Barbara school . I'm only one can i...</td>\n",
       "      <td>😂 😂 😂 😂 😂 😂 😂</td>\n",
       "      <td>At my bro Barbara school . I'm only one can i...</td>\n",
       "      <td>1</td>\n",
       "    </tr>\n",
       "    <tr>\n",
       "      <th>3</th>\n",
       "      <td>And I don’t know why people get hurt 😄 #sarca...</td>\n",
       "      <td>😄</td>\n",
       "      <td>And I don’t know why people get hurt  #sarcas...</td>\n",
       "      <td>1</td>\n",
       "    </tr>\n",
       "    <tr>\n",
       "      <th>4</th>\n",
       "      <td>Yay. I see a #cold in my near #future 😂 #joke...</td>\n",
       "      <td>😂</td>\n",
       "      <td>Yay. I see a #cold in my near #future  #jokes...</td>\n",
       "      <td>1</td>\n",
       "    </tr>\n",
       "  </tbody>\n",
       "</table>\n",
       "</div>"
      ],
      "text/plain": [
       "                                            Comments         Emojis  \\\n",
       "0   That's how we roll😎 . . . . . . . . #cinemadd...              😎   \n",
       "1                                       😂😂😂 #Sarcasm          😂 😂 😂   \n",
       "2   At my bro Barbara school . I'm only one can i...  😂 😂 😂 😂 😂 😂 😂   \n",
       "3   And I don’t know why people get hurt 😄 #sarca...              😄   \n",
       "4   Yay. I see a #cold in my near #future 😂 #joke...              😂   \n",
       "\n",
       "                                                Text  Sarcasm  \n",
       "0   That's how we roll . . . . . . . . #cinemaddi...        1  \n",
       "1                                           #Sarcasm        1  \n",
       "2   At my bro Barbara school . I'm only one can i...        1  \n",
       "3   And I don’t know why people get hurt  #sarcas...        1  \n",
       "4   Yay. I see a #cold in my near #future  #jokes...        1  "
      ]
     },
     "execution_count": 14,
     "metadata": {},
     "output_type": "execute_result"
    }
   ],
   "source": [
    "df_facebook.head()\n",
    "df_twitter.head()"
   ]
  },
  {
   "cell_type": "code",
   "execution_count": 15,
   "metadata": {},
   "outputs": [],
   "source": [
    "# Concatenate the DataFrames along the rows axis (vertically)\n",
    "final_df = pd.concat([df_twitter, df_facebook], ignore_index=True)\n",
    "\n",
    "# Save the joined DataFrame to a CSV file\n",
    "final_df.to_csv('Data/Dataset.csv', index=False)"
   ]
  },
  {
   "cell_type": "code",
   "execution_count": 16,
   "metadata": {},
   "outputs": [],
   "source": [
    "# Function to add space after every alphanumeric sequence\n",
    "def add_space_after_alphanumeric(text):\n",
    "    return re.sub(r'(\\w+)', r'\\1 ', text)\n",
    "\n",
    "# Apply the function to the 'Comments' column\n",
    "final_df['Comments'] = final_df['Comments'].apply(add_space_after_alphanumeric)"
   ]
  },
  {
   "cell_type": "code",
   "execution_count": 17,
   "metadata": {},
   "outputs": [
    {
     "data": {
      "text/html": [
       "<div>\n",
       "<style scoped>\n",
       "    .dataframe tbody tr th:only-of-type {\n",
       "        vertical-align: middle;\n",
       "    }\n",
       "\n",
       "    .dataframe tbody tr th {\n",
       "        vertical-align: top;\n",
       "    }\n",
       "\n",
       "    .dataframe thead th {\n",
       "        text-align: right;\n",
       "    }\n",
       "</style>\n",
       "<table border=\"1\" class=\"dataframe\">\n",
       "  <thead>\n",
       "    <tr style=\"text-align: right;\">\n",
       "      <th></th>\n",
       "      <th>Comments</th>\n",
       "      <th>Emojis</th>\n",
       "      <th>Text</th>\n",
       "      <th>Sarcasm</th>\n",
       "    </tr>\n",
       "  </thead>\n",
       "  <tbody>\n",
       "    <tr>\n",
       "      <th>0</th>\n",
       "      <td>That 's  how  we  roll 😎 . . . . . . . . #cin...</td>\n",
       "      <td>😎</td>\n",
       "      <td>That's how we roll . . . . . . . . #cinemaddi...</td>\n",
       "      <td>1</td>\n",
       "    </tr>\n",
       "    <tr>\n",
       "      <th>1</th>\n",
       "      <td>😂😂😂 #Sarcasm</td>\n",
       "      <td>😂 😂 😂</td>\n",
       "      <td>#Sarcasm</td>\n",
       "      <td>1</td>\n",
       "    </tr>\n",
       "    <tr>\n",
       "      <th>2</th>\n",
       "      <td>At  my  bro  Barbara  school  . I 'm  only  o...</td>\n",
       "      <td>😂 😂 😂 😂 😂 😂 😂</td>\n",
       "      <td>At my bro Barbara school . I'm only one can i...</td>\n",
       "      <td>1</td>\n",
       "    </tr>\n",
       "    <tr>\n",
       "      <th>3</th>\n",
       "      <td>And  I  don ’t  know  why  people  get  hurt ...</td>\n",
       "      <td>😄</td>\n",
       "      <td>And I don’t know why people get hurt  #sarcas...</td>\n",
       "      <td>1</td>\n",
       "    </tr>\n",
       "    <tr>\n",
       "      <th>4</th>\n",
       "      <td>Yay . I  see  a  #cold  in  my  near  #future...</td>\n",
       "      <td>😂</td>\n",
       "      <td>Yay. I see a #cold in my near #future  #jokes...</td>\n",
       "      <td>1</td>\n",
       "    </tr>\n",
       "  </tbody>\n",
       "</table>\n",
       "</div>"
      ],
      "text/plain": [
       "                                            Comments         Emojis  \\\n",
       "0   That 's  how  we  roll 😎 . . . . . . . . #cin...              😎   \n",
       "1                                      😂😂😂 #Sarcasm           😂 😂 😂   \n",
       "2   At  my  bro  Barbara  school  . I 'm  only  o...  😂 😂 😂 😂 😂 😂 😂   \n",
       "3   And  I  don ’t  know  why  people  get  hurt ...              😄   \n",
       "4   Yay . I  see  a  #cold  in  my  near  #future...              😂   \n",
       "\n",
       "                                                Text  Sarcasm  \n",
       "0   That's how we roll . . . . . . . . #cinemaddi...        1  \n",
       "1                                           #Sarcasm        1  \n",
       "2   At my bro Barbara school . I'm only one can i...        1  \n",
       "3   And I don’t know why people get hurt  #sarcas...        1  \n",
       "4   Yay. I see a #cold in my near #future  #jokes...        1  "
      ]
     },
     "execution_count": 17,
     "metadata": {},
     "output_type": "execute_result"
    }
   ],
   "source": [
    "final_df.head()"
   ]
  },
  {
   "cell_type": "code",
   "execution_count": null,
   "metadata": {},
   "outputs": [],
   "source": []
  }
 ],
 "metadata": {
  "kernelspec": {
   "display_name": "Python 3",
   "language": "python",
   "name": "python3"
  },
  "language_info": {
   "codemirror_mode": {
    "name": "ipython",
    "version": 3
   },
   "file_extension": ".py",
   "mimetype": "text/x-python",
   "name": "python",
   "nbconvert_exporter": "python",
   "pygments_lexer": "ipython3",
   "version": "3.9.0"
  }
 },
 "nbformat": 4,
 "nbformat_minor": 2
}
