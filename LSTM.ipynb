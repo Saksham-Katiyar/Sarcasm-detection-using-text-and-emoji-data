{
 "cells": [
  {
   "cell_type": "code",
   "execution_count": 1,
   "metadata": {
    "_cell_guid": "6c53202d-5c34-4859-e7e9-8ef5c7068287",
    "_uuid": "717bb968c36b9325c7d4cae5724a3672e49ff243",
    "execution": {
     "iopub.execute_input": "2024-04-16T18:03:17.307334Z",
     "iopub.status.busy": "2024-04-16T18:03:17.306747Z",
     "iopub.status.idle": "2024-04-16T18:03:18.318201Z",
     "shell.execute_reply": "2024-04-16T18:03:18.317261Z",
     "shell.execute_reply.started": "2024-04-16T18:03:17.307273Z"
    }
   },
   "outputs": [
    {
     "name": "stderr",
     "output_type": "stream",
     "text": [
      "Using TensorFlow backend.\n"
     ]
    }
   ],
   "source": [
    "# This Python 3 environment comes with many helpful analytics libraries installed\n",
    "# It is defined by the kaggle/python docker image: https://github.com/kaggle/docker-python\n",
    "# For example, here's several helpful packages to load in \n",
    "\n",
    "import numpy as np # linear algebra\n",
    "import pandas as pd # data processing, CSV file I/O (e.g. pd.read_csv)\n",
    "\n",
    "from sklearn.feature_extraction.text import CountVectorizer\n",
    "from keras.preprocessing.text import Tokenizer\n",
    "from keras.preprocessing.sequence import pad_sequences\n",
    "from keras.models import Sequential\n",
    "from keras.layers import Dense, Embedding, LSTM, SpatialDropout1D\n",
    "from sklearn.model_selection import train_test_split\n",
    "from keras.utils.np_utils import to_categorical\n",
    "import re\n",
    "\n",
    "# Input data files are available in the \"../input/\" directory.\n",
    "# For example, running this (by clicking run or pressing Shift+Enter) will list the files in the input directory"
   ]
  },
  {
   "cell_type": "code",
   "execution_count": 8,
   "metadata": {
    "_cell_guid": "89c8c923-c0bf-7b35-9ab8-e63f00b74e5a",
    "_uuid": "d2bc3bbd2ea3961c49e6673145a0a7226c160e58",
    "execution": {
     "iopub.execute_input": "2024-04-16T18:10:38.007643Z",
     "iopub.status.busy": "2024-04-16T18:10:38.006986Z",
     "iopub.status.idle": "2024-04-16T18:10:42.236687Z",
     "shell.execute_reply": "2024-04-16T18:10:42.236038Z",
     "shell.execute_reply.started": "2024-04-16T18:10:38.007584Z"
    }
   },
   "outputs": [
    {
     "name": "stdout",
     "output_type": "stream",
     "text": [
      "Index(['Comments', 'Sarcasm_Y_N', '0/1', 'Platform'], dtype='object')\n"
     ]
    },
    {
     "data": {
      "text/html": [
       "<div>\n",
       "<style scoped>\n",
       "    .dataframe tbody tr th:only-of-type {\n",
       "        vertical-align: middle;\n",
       "    }\n",
       "\n",
       "    .dataframe tbody tr th {\n",
       "        vertical-align: top;\n",
       "    }\n",
       "\n",
       "    .dataframe thead th {\n",
       "        text-align: right;\n",
       "    }\n",
       "</style>\n",
       "<table border=\"1\" class=\"dataframe\">\n",
       "  <thead>\n",
       "    <tr style=\"text-align: right;\">\n",
       "      <th></th>\n",
       "      <th>Comments</th>\n",
       "      <th>0/1</th>\n",
       "    </tr>\n",
       "  </thead>\n",
       "  <tbody>\n",
       "    <tr>\n",
       "      <th>0</th>\n",
       "      <td>Sorry No Comments ..I came here to read commen...</td>\n",
       "      <td>1</td>\n",
       "    </tr>\n",
       "    <tr>\n",
       "      <th>1</th>\n",
       "      <td>Hi guys. I'm so happy and proud of myself and ...</td>\n",
       "      <td>1</td>\n",
       "    </tr>\n",
       "    <tr>\n",
       "      <th>2</th>\n",
       "      <td>Hahahaha your intelligence ðŸ˜œðŸ˜œðŸ˜œ</td>\n",
       "      <td>1</td>\n",
       "    </tr>\n",
       "    <tr>\n",
       "      <th>3</th>\n",
       "      <td>Aqsa Naveed we were proud backbenchers ðŸ˜œðŸ˜...</td>\n",
       "      <td>1</td>\n",
       "    </tr>\n",
       "    <tr>\n",
       "      <th>4</th>\n",
       "      <td>Hemant extraordinary sketcherðŸ˜..right Ujjaw...</td>\n",
       "      <td>1</td>\n",
       "    </tr>\n",
       "  </tbody>\n",
       "</table>\n",
       "</div>"
      ],
      "text/plain": [
       "                                            Comments  0/1\n",
       "0  Sorry No Comments ..I came here to read commen...    1\n",
       "1  Hi guys. I'm so happy and proud of myself and ...    1\n",
       "2            Hahahaha your intelligence ðŸ˜œðŸ˜œðŸ˜œ    1\n",
       "3  Aqsa Naveed we were proud backbenchers ðŸ˜œðŸ˜...    1\n",
       "4  Hemant extraordinary sketcherðŸ˜..right Ujjaw...    1"
      ]
     },
     "execution_count": 8,
     "metadata": {},
     "output_type": "execute_result"
    }
   ],
   "source": [
    "data = pd.read_excel('../input/sarcasm-detection/Dataset.xlsx', sheet_name='Full Data')\n",
    "# Keeping only the neccessary columns\n",
    "print(data.columns)\n",
    "data = data[['Comments','0/1']]\n",
    "data.head()"
   ]
  },
  {
   "cell_type": "code",
   "execution_count": 10,
   "metadata": {
    "_cell_guid": "43632d2d-6160-12ce-48b0-e5eb1c207076",
    "_uuid": "d0f8b4542106a279f7398db7285ae5e370b2e813",
    "execution": {
     "iopub.execute_input": "2024-04-16T18:13:09.841285Z",
     "iopub.status.busy": "2024-04-16T18:13:09.840770Z",
     "iopub.status.idle": "2024-04-16T18:13:13.574254Z",
     "shell.execute_reply": "2024-04-16T18:13:13.573546Z",
     "shell.execute_reply.started": "2024-04-16T18:13:09.841217Z"
    }
   },
   "outputs": [
    {
     "name": "stdout",
     "output_type": "stream",
     "text": [
      "18520\n",
      "26140\n"
     ]
    }
   ],
   "source": [
    "# data = data[data.sentiment != \"Neutral\"]\n",
    "data['Comments'] = data['Comments'].apply(lambda x: x.lower())\n",
    "data['Comments'] = data['Comments'].apply((lambda x: re.sub('[^a-zA-z0-9\\s]','',x)))\n",
    "\n",
    "print(data[ data['0/1'] == 1].size)\n",
    "print(data[ data['0/1'] == 0].size)\n",
    "\n",
    "for idx,row in data.iterrows():\n",
    "    row[0] = row[0].replace('rt',' ')\n",
    "    \n",
    "max_fatures = 2000\n",
    "tokenizer = Tokenizer(num_words=max_fatures, split=' ')\n",
    "tokenizer.fit_on_texts(data['Comments'].values)\n",
    "X = tokenizer.texts_to_sequences(data['Comments'].values)\n",
    "X = pad_sequences(X)"
   ]
  },
  {
   "cell_type": "code",
   "execution_count": 11,
   "metadata": {
    "_cell_guid": "1ba3cf60-a83c-9c21-05e0-b14303027e93",
    "_uuid": "05cb9ef0ec9e0a4067e3ab7c1bda7b2c1211feda",
    "execution": {
     "iopub.execute_input": "2024-04-16T18:13:20.838588Z",
     "iopub.status.busy": "2024-04-16T18:13:20.838083Z",
     "iopub.status.idle": "2024-04-16T18:13:21.458555Z",
     "shell.execute_reply": "2024-04-16T18:13:21.456963Z",
     "shell.execute_reply.started": "2024-04-16T18:13:20.838539Z"
    }
   },
   "outputs": [
    {
     "name": "stdout",
     "output_type": "stream",
     "text": [
      "_________________________________________________________________\n",
      "Layer (type)                 Output Shape              Param #   \n",
      "=================================================================\n",
      "embedding_1 (Embedding)      (None, 688, 128)          256000    \n",
      "_________________________________________________________________\n",
      "spatial_dropout1d_1 (Spatial (None, 688, 128)          0         \n",
      "_________________________________________________________________\n",
      "lstm_1 (LSTM)                (None, 196)               254800    \n",
      "_________________________________________________________________\n",
      "dense_1 (Dense)              (None, 2)                 394       \n",
      "=================================================================\n",
      "Total params: 511,194\n",
      "Trainable params: 511,194\n",
      "Non-trainable params: 0\n",
      "_________________________________________________________________\n",
      "None\n"
     ]
    }
   ],
   "source": [
    "embed_dim = 128\n",
    "lstm_out = 196\n",
    "\n",
    "model = Sequential()\n",
    "model.add(Embedding(max_fatures, embed_dim,input_length = X.shape[1]))\n",
    "model.add(SpatialDropout1D(0.4))\n",
    "model.add(LSTM(lstm_out, dropout=0.2, recurrent_dropout=0.2))\n",
    "model.add(Dense(2,activation='softmax'))\n",
    "model.compile(loss = 'categorical_crossentropy', optimizer='adam',metrics = ['accuracy'])\n",
    "print(model.summary())"
   ]
  },
  {
   "cell_type": "code",
   "execution_count": 15,
   "metadata": {
    "_cell_guid": "b35748b8-2353-3db2-e571-5fd22bb93eb0",
    "_uuid": "a380bbfae2d098d407b138fc44622c9913a31c07",
    "execution": {
     "iopub.execute_input": "2024-04-16T18:19:37.190694Z",
     "iopub.status.busy": "2024-04-16T18:19:37.190357Z",
     "iopub.status.idle": "2024-04-16T18:19:37.285644Z",
     "shell.execute_reply": "2024-04-16T18:19:37.284788Z",
     "shell.execute_reply.started": "2024-04-16T18:19:37.190655Z"
    }
   },
   "outputs": [
    {
     "name": "stdout",
     "output_type": "stream",
     "text": [
      "(14961, 688) (14961, 2)\n",
      "(7369, 688) (7369, 2)\n"
     ]
    }
   ],
   "source": [
    "Y = pd.get_dummies(data['0/1']).values\n",
    "X_train, X_test, Y_train, Y_test = train_test_split(X,Y, test_size = 0.33, random_state = 42)\n",
    "print(X_train.shape,Y_train.shape)\n",
    "print(X_test.shape,Y_test.shape)"
   ]
  },
  {
   "cell_type": "code",
   "execution_count": 17,
   "metadata": {
    "_cell_guid": "d5e499ac-2eba-6ff7-8d9a-ff65eb04099b",
    "_uuid": "d0b239912cf67294a9f5af6883bb159c44318fc7",
    "execution": {
     "iopub.execute_input": "2024-04-16T18:21:27.232844Z",
     "iopub.status.busy": "2024-04-16T18:21:27.232501Z",
     "iopub.status.idle": "2024-04-16T19:10:53.856676Z",
     "shell.execute_reply": "2024-04-16T19:10:53.855726Z",
     "shell.execute_reply.started": "2024-04-16T18:21:27.232761Z"
    }
   },
   "outputs": [
    {
     "name": "stdout",
     "output_type": "stream",
     "text": [
      "Epoch 1/5\n",
      " - 611s - loss: 0.3360 - acc: 0.8654\n",
      "Epoch 2/5\n",
      " - 588s - loss: 0.3109 - acc: 0.8707\n",
      "Epoch 3/5\n",
      " - 584s - loss: 0.2854 - acc: 0.8796\n",
      "Epoch 4/5\n",
      " - 587s - loss: 0.2707 - acc: 0.8866\n",
      "Epoch 5/5\n",
      " - 596s - loss: 0.2899 - acc: 0.8776\n"
     ]
    },
    {
     "data": {
      "text/plain": [
       "<keras.callbacks.History at 0x7f637ffc9208>"
      ]
     },
     "execution_count": 17,
     "metadata": {},
     "output_type": "execute_result"
    }
   ],
   "source": [
    "batch_size = 32\n",
    "model.fit(X_train, Y_train, epochs = 5, batch_size=batch_size, verbose = 2)"
   ]
  },
  {
   "cell_type": "code",
   "execution_count": 18,
   "metadata": {
    "_cell_guid": "a970f412-722f-6d6d-72c8-325d0901ccef",
    "_uuid": "7872f6ea819a5d4d08394ba6db8436f9cb2cfe1c",
    "execution": {
     "iopub.execute_input": "2024-04-16T19:10:53.858092Z",
     "iopub.status.busy": "2024-04-16T19:10:53.857831Z",
     "iopub.status.idle": "2024-04-16T19:11:42.160674Z",
     "shell.execute_reply": "2024-04-16T19:11:42.160005Z",
     "shell.execute_reply.started": "2024-04-16T19:10:53.858034Z"
    }
   },
   "outputs": [
    {
     "name": "stdout",
     "output_type": "stream",
     "text": [
      "score: 0.34\n",
      "acc: 0.87\n"
     ]
    }
   ],
   "source": [
    "validation_size = 1500\n",
    "\n",
    "X_validate = X_test[-validation_size:]\n",
    "Y_validate = Y_test[-validation_size:]\n",
    "X_test = X_test[:-validation_size]\n",
    "Y_test = Y_test[:-validation_size]\n",
    "score,acc = model.evaluate(X_test, Y_test, verbose = 2, batch_size = batch_size)\n",
    "print(\"score: %.2f\" % (score))\n",
    "print(\"acc: %.2f\" % (acc))"
   ]
  },
  {
   "cell_type": "code",
   "execution_count": 20,
   "metadata": {
    "_cell_guid": "1add73e9-c6fb-7e4c-8715-ea92f519d2a6",
    "_uuid": "f80e9f3cf281adb3ab0357cbf6f886eb1dce3005",
    "execution": {
     "iopub.execute_input": "2024-04-16T19:25:07.700169Z",
     "iopub.status.busy": "2024-04-16T19:25:07.699791Z",
     "iopub.status.idle": "2024-04-16T19:27:05.978903Z",
     "shell.execute_reply": "2024-04-16T19:27:05.977986Z",
     "shell.execute_reply.started": "2024-04-16T19:25:07.700107Z"
    }
   },
   "outputs": [
    {
     "name": "stdout",
     "output_type": "stream",
     "text": [
      "pos_acc 68.0577849117175 %\n",
      "neg_acc 97.49144811858609 %\n"
     ]
    }
   ],
   "source": [
    "pos_cnt, neg_cnt, pos_correct, neg_correct = 0, 0, 0, 0\n",
    "for x in range(len(X_validate)):\n",
    "    \n",
    "    result = model.predict(X_validate[x].reshape(1,X_test.shape[1]),batch_size=1,verbose = 2)[0]\n",
    "   \n",
    "    if np.argmax(result) == np.argmax(Y_validate[x]):\n",
    "        if np.argmax(Y_validate[x]) == 0:\n",
    "            neg_correct += 1\n",
    "        else:\n",
    "            pos_correct += 1\n",
    "       \n",
    "    if np.argmax(Y_validate[x]) == 0:\n",
    "        neg_cnt += 1\n",
    "    else:\n",
    "        pos_cnt += 1\n",
    "\n",
    "\n",
    "\n",
    "print(\"pos_acc\", pos_correct/pos_cnt*100, \"%\")\n",
    "print(\"neg_acc\", neg_correct/neg_cnt*100, \"%\")"
   ]
  },
  {
   "cell_type": "code",
   "execution_count": null,
   "metadata": {
    "_cell_guid": "24c64f46-edd1-8d0b-7c7c-ef50fd26b2fd",
    "_uuid": "d9aac68e2013b3beffb6a764cc5b85be83073e66",
    "collapsed": true,
    "jupyter": {
     "outputs_hidden": true
    }
   },
   "outputs": [],
   "source": [
    "twt = ['Meetings: Because none of us is as dumb as all of us.']\n",
    "#vectorizing the tweet by the pre-fitted tokenizer instance\n",
    "twt = tokenizer.texts_to_sequences(twt)\n",
    "#padding the tweet to have exactly the same shape as `embedding_2` input\n",
    "twt = pad_sequences(twt, maxlen=28, dtype='int32', value=0)\n",
    "print(twt)\n",
    "sentiment = model.predict(twt,batch_size=1,verbose = 2)[0]\n",
    "if(np.argmax(sentiment) == 0):\n",
    "    print(\"negative\")\n",
    "elif (np.argmax(sentiment) == 1):\n",
    "    print(\"positive\")"
   ]
  },
  {
   "cell_type": "code",
   "execution_count": null,
   "metadata": {
    "_cell_guid": "c611b55c-92e4-4a33-8e82-1812bef6193d",
    "_uuid": "8b10995b0832ec98ba0c75832186fcb09b1a2d5f",
    "collapsed": true,
    "jupyter": {
     "outputs_hidden": true
    }
   },
   "outputs": [],
   "source": []
  }
 ],
 "metadata": {
  "_change_revision": 0,
  "_is_fork": false,
  "kaggle": {
   "accelerator": "none",
   "dataSources": [
    {
     "datasetId": 16,
     "sourceId": 799881,
     "sourceType": "datasetVersion"
    },
    {
     "datasetId": 4811775,
     "sourceId": 8138982,
     "sourceType": "datasetVersion"
    }
   ],
   "dockerImageVersionId": 3200,
   "isGpuEnabled": false,
   "isInternetEnabled": false,
   "language": "python",
   "sourceType": "notebook"
  },
  "kernelspec": {
   "display_name": "Python 3 (ipykernel)",
   "language": "python",
   "name": "python3"
  },
  "language_info": {
   "codemirror_mode": {
    "name": "ipython",
    "version": 3
   },
   "file_extension": ".py",
   "mimetype": "text/x-python",
   "name": "python",
   "nbconvert_exporter": "python",
   "pygments_lexer": "ipython3",
   "version": "3.9.0"
  }
 },
 "nbformat": 4,
 "nbformat_minor": 4
}
